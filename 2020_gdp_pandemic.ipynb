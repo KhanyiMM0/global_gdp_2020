{
 "cells": [
  {
   "cell_type": "code",
   "execution_count": 1,
   "metadata": {},
   "outputs": [],
   "source": [
    "import re\n",
    "import pandas as pd\n",
    "import seaborn as sns\n",
    "import matplotlib.pyplot as plt"
   ]
  },
  {
   "cell_type": "code",
   "execution_count": 2,
   "metadata": {},
   "outputs": [],
   "source": [
    "data = pd.read_csv(\"GDP_during_pandemic_2020.csv\")"
   ]
  },
  {
   "cell_type": "markdown",
   "metadata": {},
   "source": [
    "\n",
    "Inspecting through the data and its properties\n"
   ]
  },
  {
   "cell_type": "code",
   "execution_count": 3,
   "metadata": {},
   "outputs": [
    {
     "data": {
      "text/html": [
       "<div>\n",
       "<style scoped>\n",
       "    .dataframe tbody tr th:only-of-type {\n",
       "        vertical-align: middle;\n",
       "    }\n",
       "\n",
       "    .dataframe tbody tr th {\n",
       "        vertical-align: top;\n",
       "    }\n",
       "\n",
       "    .dataframe thead th {\n",
       "        text-align: right;\n",
       "    }\n",
       "</style>\n",
       "<table border=\"1\" class=\"dataframe\">\n",
       "  <thead>\n",
       "    <tr style=\"text-align: right;\">\n",
       "      <th></th>\n",
       "      <th>Country</th>\n",
       "      <th>Nominal_gdp_p_capita</th>\n",
       "      <th>PPP_gdp_p_capita</th>\n",
       "      <th>GDP_growth_percentage</th>\n",
       "      <th>Rise_fall_GDP</th>\n",
       "    </tr>\n",
       "  </thead>\n",
       "  <tbody>\n",
       "    <tr>\n",
       "      <th>0</th>\n",
       "      <td>Afghanistan</td>\n",
       "      <td>581</td>\n",
       "      <td>2390.0</td>\n",
       "      <td>-5.000</td>\n",
       "      <td>medium fall</td>\n",
       "    </tr>\n",
       "    <tr>\n",
       "      <th>1</th>\n",
       "      <td>Albania</td>\n",
       "      <td>5287</td>\n",
       "      <td>14218.0</td>\n",
       "      <td>-3.500</td>\n",
       "      <td>medium fall</td>\n",
       "    </tr>\n",
       "    <tr>\n",
       "      <th>2</th>\n",
       "      <td>Algeria</td>\n",
       "      <td>3263</td>\n",
       "      <td>11112.0</td>\n",
       "      <td>-5.992</td>\n",
       "      <td>medium fall</td>\n",
       "    </tr>\n",
       "    <tr>\n",
       "      <th>3</th>\n",
       "      <td>Angola</td>\n",
       "      <td>2012</td>\n",
       "      <td>6932.0</td>\n",
       "      <td>-3.975</td>\n",
       "      <td>medium fall</td>\n",
       "    </tr>\n",
       "    <tr>\n",
       "      <th>4</th>\n",
       "      <td>Antigua and Barbuda</td>\n",
       "      <td>14168</td>\n",
       "      <td>18618.0</td>\n",
       "      <td>-17.273</td>\n",
       "      <td>very high fall</td>\n",
       "    </tr>\n",
       "  </tbody>\n",
       "</table>\n",
       "</div>"
      ],
      "text/plain": [
       "               Country Nominal_gdp_p_capita  PPP_gdp_p_capita  \\\n",
       "0          Afghanistan                  581            2390.0   \n",
       "1              Albania                 5287           14218.0   \n",
       "2              Algeria                 3263           11112.0   \n",
       "3               Angola                 2012            6932.0   \n",
       "4  Antigua and Barbuda                14168           18618.0   \n",
       "\n",
       "   GDP_growth_percentage   Rise_fall_GDP  \n",
       "0                 -5.000     medium fall  \n",
       "1                 -3.500     medium fall  \n",
       "2                 -5.992     medium fall  \n",
       "3                 -3.975     medium fall  \n",
       "4                -17.273  very high fall  "
      ]
     },
     "execution_count": 3,
     "metadata": {},
     "output_type": "execute_result"
    }
   ],
   "source": [
    "data.head()"
   ]
  },
  {
   "cell_type": "code",
   "execution_count": 4,
   "metadata": {},
   "outputs": [
    {
     "name": "stdout",
     "output_type": "stream",
     "text": [
      "<class 'pandas.core.frame.DataFrame'>\n",
      "RangeIndex: 194 entries, 0 to 193\n",
      "Data columns (total 5 columns):\n",
      " #   Column                 Non-Null Count  Dtype  \n",
      "---  ------                 --------------  -----  \n",
      " 0   Country                194 non-null    object \n",
      " 1   Nominal_gdp_p_capita   193 non-null    object \n",
      " 2   PPP_gdp_p_capita       193 non-null    float64\n",
      " 3   GDP_growth_percentage  193 non-null    float64\n",
      " 4   Rise_fall_GDP          193 non-null    object \n",
      "dtypes: float64(2), object(3)\n",
      "memory usage: 7.7+ KB\n"
     ]
    }
   ],
   "source": [
    "data.info()"
   ]
  },
  {
   "cell_type": "markdown",
   "metadata": {},
   "source": [
    "Inspecting for any potential null values"
   ]
  },
  {
   "cell_type": "code",
   "execution_count": 5,
   "metadata": {},
   "outputs": [
    {
     "data": {
      "text/plain": [
       "Country                  0\n",
       "Nominal_gdp_p_capita     1\n",
       "PPP_gdp_p_capita         1\n",
       "GDP_growth_percentage    1\n",
       "Rise_fall_GDP            1\n",
       "dtype: int64"
      ]
     },
     "execution_count": 5,
     "metadata": {},
     "output_type": "execute_result"
    }
   ],
   "source": [
    "data.isnull().sum()"
   ]
  },
  {
   "cell_type": "markdown",
   "metadata": {},
   "source": [
    "\n",
    "Upon analysis only one country - Syria - has missing information in the entire row. Hence it would be best to remove the country from the dataset to minimize unfair analysis.\n"
   ]
  },
  {
   "cell_type": "code",
   "execution_count": 6,
   "metadata": {},
   "outputs": [
    {
     "data": {
      "text/plain": [
       "Country                  0\n",
       "Nominal_gdp_p_capita     0\n",
       "PPP_gdp_p_capita         0\n",
       "GDP_growth_percentage    0\n",
       "Rise_fall_GDP            0\n",
       "dtype: int64"
      ]
     },
     "execution_count": 6,
     "metadata": {},
     "output_type": "execute_result"
    }
   ],
   "source": [
    "data.dropna(inplace=True)\n",
    "data.isnull().sum()"
   ]
  },
  {
   "cell_type": "code",
   "execution_count": 7,
   "metadata": {},
   "outputs": [
    {
     "name": "stdout",
     "output_type": "stream",
     "text": [
      "<class 'pandas.core.frame.DataFrame'>\n",
      "Int64Index: 193 entries, 0 to 193\n",
      "Data columns (total 5 columns):\n",
      " #   Column                 Non-Null Count  Dtype  \n",
      "---  ------                 --------------  -----  \n",
      " 0   Country                193 non-null    object \n",
      " 1   Nominal_gdp_p_capita   193 non-null    object \n",
      " 2   PPP_gdp_p_capita       193 non-null    float64\n",
      " 3   GDP_growth_percentage  193 non-null    float64\n",
      " 4   Rise_fall_GDP          193 non-null    object \n",
      "dtypes: float64(2), object(3)\n",
      "memory usage: 9.0+ KB\n"
     ]
    }
   ],
   "source": [
    "data.info()"
   ]
  },
  {
   "cell_type": "markdown",
   "metadata": {},
   "source": [
    "Upon investigating the values, it was found that the Nominal_gdp_p_capita of _Samoa_ is not a float, rather is an object(string) which can cause issue when making calculations with the Nominal_gdp_p_capita values. Below those changes are being rectified for a much more accurate analysis"
   ]
  },
  {
   "cell_type": "code",
   "execution_count": 8,
   "metadata": {},
   "outputs": [
    {
     "name": "stdout",
     "output_type": "stream",
     "text": [
      "<class 'pandas.core.frame.DataFrame'>\n",
      "Int64Index: 193 entries, 0 to 193\n",
      "Data columns (total 5 columns):\n",
      " #   Column                 Non-Null Count  Dtype  \n",
      "---  ------                 --------------  -----  \n",
      " 0   Country                193 non-null    object \n",
      " 1   Nominal_gdp_p_capita   193 non-null    object \n",
      " 2   PPP_gdp_p_capita       193 non-null    float64\n",
      " 3   GDP_growth_percentage  193 non-null    float64\n",
      " 4   Rise_fall_GDP          193 non-null    object \n",
      "dtypes: float64(2), object(3)\n",
      "memory usage: 9.0+ KB\n"
     ]
    }
   ],
   "source": [
    "def clean_nominal_gdp(value):\n",
    "    # Search for quotation marks in each value followed by\n",
    "    # any characters repeated any number of times\n",
    "    if re.search('\\\".*', str(value)):\n",
    "  \n",
    "        # Extract the position of the quotation marks pattern\n",
    "        position = re.search('\\\"', str(value)).start()\n",
    "  \n",
    "        # return the cleaned value\n",
    "        return value[:position]\n",
    "    else:\n",
    "        # if the vakue is clean up needed return the same value\n",
    "        return value\n",
    "          \n",
    "data['Nominal_gdp_p_capita'] = data['Nominal_gdp_p_capita'].apply(clean_nominal_gdp)\n",
    "data.info()"
   ]
  },
  {
   "cell_type": "markdown",
   "metadata": {},
   "source": [
    "According to the original resource, when analysing the 'Rise_Fall_GDP' column, it mentions whether a country's GDP has either fallen, risen or stayed the same.\n",
    "\n",
    "Given further explanation, both the 'fall' and 'rise' growth can be broken down further into subcategories. Short, medium and higher with their percentages, 1%-3%, 3%-6% and 6%+ respectively."
   ]
  },
  {
   "cell_type": "code",
   "execution_count": 9,
   "metadata": {},
   "outputs": [
    {
     "data": {
      "text/html": [
       "<div>\n",
       "<style scoped>\n",
       "    .dataframe tbody tr th:only-of-type {\n",
       "        vertical-align: middle;\n",
       "    }\n",
       "\n",
       "    .dataframe tbody tr th {\n",
       "        vertical-align: top;\n",
       "    }\n",
       "\n",
       "    .dataframe thead th {\n",
       "        text-align: right;\n",
       "    }\n",
       "</style>\n",
       "<table border=\"1\" class=\"dataframe\">\n",
       "  <thead>\n",
       "    <tr style=\"text-align: right;\">\n",
       "      <th></th>\n",
       "      <th>PPP_gdp_p_capita</th>\n",
       "      <th>GDP_growth_percentage</th>\n",
       "    </tr>\n",
       "  </thead>\n",
       "  <tbody>\n",
       "    <tr>\n",
       "      <th>PPP_gdp_p_capita</th>\n",
       "      <td>1.000000</td>\n",
       "      <td>-0.056932</td>\n",
       "    </tr>\n",
       "    <tr>\n",
       "      <th>GDP_growth_percentage</th>\n",
       "      <td>-0.056932</td>\n",
       "      <td>1.000000</td>\n",
       "    </tr>\n",
       "  </tbody>\n",
       "</table>\n",
       "</div>"
      ],
      "text/plain": [
       "                       PPP_gdp_p_capita  GDP_growth_percentage\n",
       "PPP_gdp_p_capita               1.000000              -0.056932\n",
       "GDP_growth_percentage         -0.056932               1.000000"
      ]
     },
     "execution_count": 9,
     "metadata": {},
     "output_type": "execute_result"
    }
   ],
   "source": [
    "data.corr()"
   ]
  },
  {
   "cell_type": "markdown",
   "metadata": {},
   "source": [
    "\n",
    "We see a negative correlation between PPP_gdp_p_capita and GDP_growth_percentage values\n"
   ]
  },
  {
   "cell_type": "code",
   "execution_count": 10,
   "metadata": {},
   "outputs": [
    {
     "data": {
      "image/png": "[encoded data removed]",
      "text/plain": [
       "<Figure size 360x360 with 2 Axes>"
      ]
     },
     "metadata": {
      "needs_background": "light"
     },
     "output_type": "display_data"
    }
   ],
   "source": [
    "# correlation map\n",
    "fig, ax = plt.subplots(figsize=(5, 5))\n",
    "sns.heatmap(data.corr(), annot=True, linewidths=.5, fmt= '.1f')\n",
    "plt.show()"
   ]
  },
  {
   "cell_type": "code",
   "execution_count": 11,
   "metadata": {},
   "outputs": [
    {
     "data": {
      "text/plain": [
       "Index(['Country', 'Nominal_gdp_p_capita', 'PPP_gdp_p_capita',\n",
       "       'GDP_growth_percentage', 'Rise_fall_GDP'],\n",
       "      dtype='object')"
      ]
     },
     "execution_count": 11,
     "metadata": {},
     "output_type": "execute_result"
    }
   ],
   "source": [
    "data.columns"
   ]
  },
  {
   "cell_type": "markdown",
   "metadata": {},
   "source": [
    "\n",
    "We can make use of a histogram plot on 'GDP_growth_percentage' values\n"
   ]
  },
  {
   "cell_type": "code",
   "execution_count": 12,
   "metadata": {},
   "outputs": [
    {
     "data": {
      "image/png": "[encoded data removed]",
      "text/plain": [
       "<Figure size 864x864 with 1 Axes>"
      ]
     },
     "metadata": {
      "needs_background": "light"
     },
     "output_type": "display_data"
    }
   ],
   "source": [
    "data.GDP_growth_percentage.plot(kind = 'hist',bins = 50,figsize = (12,12))\n",
    "plt.show()"
   ]
  },
  {
   "cell_type": "markdown",
   "metadata": {},
   "source": [
    "This histogram shows a postive skewness although the heatamap shows that there is negative correlation. The outliers on both ends represent Macao with a very high fall coming in at 56.306%. Guyana with a very high rise coming in at 43.384%.\n",
    "\n",
    "Upon further investigation Guyana's GDP growth rate was a very high rise globally considering that it is one of the poorest countries in South America. The reason behind this was \"In 2020, Guyana’s economy entered a period of rapid growth brought on by the introduction of the oil sector\" despite this happening during a pandemic.\n",
    "\n",
    "More details have been provided in the link below:\n",
    "https://repositorio.cepal.org/bitstream/handle/11362/47193/106/EI2021_Guyana_en.pdf\n",
    "\n",
    "In addition Macao's GDP growth rate was a very high fall considering it being one of the richest countries in the world. Due to the Covid19, the main reason for their GDP fall is due to the tourism and gambling industries as they both play a huge role in their economy.\n",
    "\n",
    "More details have been provided in the link below:\n",
    "https://en.wikipedia.org/wiki/Economy_of_Macau#:~:text=Tourism%20and%20gambling,-Main%20articles%3A%20Gambling&text=Tourism%20is%20the%20backbone%20of,of%20revenue%20for%20the%20government\n",
    "\n",
    "\n",
    "\n",
    "\n",
    "Original dataset:\n",
    "https://www.kaggle.com/mdjafrilalamshihab/dataset-of-worldwide-gdp-during-covid-pandemic2020"
   ]
  }
 ],
 "metadata": {
  "interpreter": {
   "hash": "ee2e05962166d07594d8d33c2d48fefd1642af163f282c5e1e7e2c900f230647"
  },
  "kernelspec": {
   "display_name": "Python 3.8.8 64-bit ('base': conda)",
   "language": "python",
   "name": "python3"
  },
  "language_info": {
   "codemirror_mode": {
    "name": "ipython",
    "version": 3
   },
   "file_extension": ".py",
   "mimetype": "text/x-python",
   "name": "python",
   "nbconvert_exporter": "python",
   "pygments_lexer": "ipython3",
   "version": "3.8.8"
  },
  "orig_nbformat": 4
 },
 "nbformat": 4,
 "nbformat_minor": 2
}
